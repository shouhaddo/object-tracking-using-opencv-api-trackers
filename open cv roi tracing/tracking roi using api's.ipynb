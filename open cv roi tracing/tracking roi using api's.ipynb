{
 "cells": [
  {
   "cell_type": "markdown",
   "metadata": {},
   "source": [
    "#Hey This is Shouhaddo Paul make sure u are following me on github and\n",
    "on my insta handle @hack.it29"
   ]
  },
  {
   "cell_type": "code",
   "execution_count": 1,
   "metadata": {},
   "outputs": [],
   "source": [
    "import cv2"
   ]
  },
  {
   "cell_type": "code",
   "execution_count": 2,
   "metadata": {},
   "outputs": [],
   "source": [
    "def tracker_in_use():\n",
    "    print(\"HEY Folks,what kind of tracker u wanna use??\")\n",
    "    print(\"Enter  1.Median flow\\n2.MIL\\n3.TLD\")\n",
    "    choice = input(\"Enter your choice mate\")\n",
    "\n",
    "    if choice == '1':\n",
    "             tracker = cv2.TrackerMedianFlow_create()\n",
    "             \n",
    "    if choice == '2':\n",
    "             tracker = cv2.TrackerMIL_create()\n",
    "             \n",
    "    if choice == '3':\n",
    "             tracker = cv2.TrackerTLD_create()\n",
    "             \n",
    "    t_name = str(tracker).split()[0][1:] #used to get the name of the tracker to display in the window\n",
    "    return tracker,t_name\n",
    "    \n",
    "    #note from hackit29:u guys can add the other two tracker boosting and kcf , i found these quite accurate so i m using these.."
   ]
  },
  {
   "cell_type": "code",
   "execution_count": 4,
   "metadata": {},
   "outputs": [
    {
     "name": "stdout",
     "output_type": "stream",
     "text": [
      "HEY Folks,what kind of tracker u wanna use??\n",
      "Enter  1.Median flow\n",
      "2.MIL\n",
      "3.TLD\n"
     ]
    },
    {
     "name": "stdin",
     "output_type": "stream",
     "text": [
      "Enter your choice mate 2\n"
     ]
    },
    {
     "data": {
      "text/plain": [
       "(<TrackerMIL 00000186130DC730>, 'TrackerMIL')"
      ]
     },
     "execution_count": 4,
     "metadata": {},
     "output_type": "execute_result"
    }
   ],
   "source": [
    "tracker_in_use()#just testing out the return function"
   ]
  },
  {
   "cell_type": "code",
   "execution_count": 6,
   "metadata": {},
   "outputs": [
    {
     "name": "stdout",
     "output_type": "stream",
     "text": [
      "HEY Folks,what kind of tracker u wanna use??\n",
      "Enter  1.Median flow\n",
      "2.MIL\n",
      "3.TLD\n"
     ]
    },
    {
     "name": "stdin",
     "output_type": "stream",
     "text": [
      "Enter your choice mate 3\n"
     ]
    }
   ],
   "source": [
    "tracker,t_name = tracker_in_use()\n",
    "capture = cv2.VideoCapture(0)\n",
    "ret, frame = capture.read()\n",
    "region_of_intrest = cv2.selectROI(frame, False)\n",
    "ret = tracker.init(frame, region_of_intrest)\n",
    "while True:\n",
    "    ret, frame = capture.read()\n",
    "    done, region_of_intrest = tracker.update(frame)\n",
    "    (x,y,w,h) = tuple(map(int,region_of_intrest))\n",
    "    if done:\n",
    "        point1,point2 = (x, y),(x+w, y+h)\n",
    "        cv2.rectangle(frame, point1, point2, (255,0,0), 3)\n",
    "    else :\n",
    "        cv2.putText(frame, \"Failed to detect!!!\", (100,200), cv2.FONT_ITALIC, 1,(0,0,255),3)\n",
    "\n",
    "    cv2.imshow(t_name, frame)\n",
    "    if cv2.waitKey(10) & 0xff == 27: #except 27 u guys can use ord('q') for q to act as quit\n",
    "          break\n",
    "      \n",
    "        \n",
    "capture.release()\n",
    "cv2.destroyAllWindows()"
   ]
  },
  {
   "cell_type": "code",
   "execution_count": null,
   "metadata": {},
   "outputs": [],
   "source": []
  }
 ],
 "metadata": {
  "kernelspec": {
   "display_name": "Python 3",
   "language": "python",
   "name": "python3"
  },
  "language_info": {
   "codemirror_mode": {
    "name": "ipython",
    "version": 3
   },
   "file_extension": ".py",
   "mimetype": "text/x-python",
   "name": "python",
   "nbconvert_exporter": "python",
   "pygments_lexer": "ipython3",
   "version": "3.6.6"
  }
 },
 "nbformat": 4,
 "nbformat_minor": 2
}
